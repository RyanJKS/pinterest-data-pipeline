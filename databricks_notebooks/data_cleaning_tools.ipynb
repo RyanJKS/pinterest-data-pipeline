{
 "cells": [
  {
   "cell_type": "markdown",
   "metadata": {},
   "source": [
    "## Functions to clean dataframes"
   ]
  },
  {
   "cell_type": "code",
   "execution_count": null,
   "metadata": {
    "application/vnd.databricks.v1+cell": {
     "cellMetadata": {
      "byteLimit": 2048000,
      "rowLimit": 10000
     },
     "inputWidgets": {},
     "nuid": "780bb085-5382-413c-a3aa-bdda0d463fe3",
     "showTitle": false,
     "title": ""
    }
   },
   "outputs": [
    {
     "data": {
      "text/html": [
       "<style scoped>\n",
       "  .ansiout {\n",
       "    display: block;\n",
       "    unicode-bidi: embed;\n",
       "    white-space: pre-wrap;\n",
       "    word-wrap: break-word;\n",
       "    word-break: break-all;\n",
       "    font-family: \"Menlo\", \"Monaco\", \"Consolas\", \"Ubuntu Mono\", \"Source Code Pro\", monospace;\n",
       "    font-size: 13px;\n",
       "    color: #555;\n",
       "    margin-left: 4px;\n",
       "    line-height: 19px;\n",
       "  }\n",
       "</style>\n",
       "<div class=\"ansiout\"></div>"
      ]
     },
     "metadata": {
      "application/vnd.databricks.v1+output": {
       "addedWidgets": {},
       "arguments": {},
       "data": "<div class=\"ansiout\"></div>",
       "datasetInfos": [],
       "metadata": {},
       "removedWidgets": [],
       "type": "html"
      }
     },
     "output_type": "display_data"
    }
   ],
   "source": [
    "# Import necessary libraries\n",
    "from pyspark.sql import DataFrame\n",
    "from pyspark.sql.functions import *"
   ]
  },
  {
   "cell_type": "code",
   "execution_count": null,
   "metadata": {
    "application/vnd.databricks.v1+cell": {
     "cellMetadata": {
      "byteLimit": 2048000,
      "rowLimit": 10000
     },
     "inputWidgets": {},
     "nuid": "3ce9d019-dc7f-4b55-8ee6-a9cc0e041c0f",
     "showTitle": false,
     "title": ""
    }
   },
   "outputs": [
    {
     "data": {
      "text/html": [
       "<style scoped>\n",
       "  .ansiout {\n",
       "    display: block;\n",
       "    unicode-bidi: embed;\n",
       "    white-space: pre-wrap;\n",
       "    word-wrap: break-word;\n",
       "    word-break: break-all;\n",
       "    font-family: \"Menlo\", \"Monaco\", \"Consolas\", \"Ubuntu Mono\", \"Source Code Pro\", monospace;\n",
       "    font-size: 13px;\n",
       "    color: #555;\n",
       "    margin-left: 4px;\n",
       "    line-height: 19px;\n",
       "  }\n",
       "</style>\n",
       "<div class=\"ansiout\"></div>"
      ]
     },
     "metadata": {
      "application/vnd.databricks.v1+output": {
       "addedWidgets": {},
       "arguments": {},
       "data": "<div class=\"ansiout\"></div>",
       "datasetInfos": [],
       "metadata": {},
       "removedWidgets": [],
       "type": "html"
      }
     },
     "output_type": "display_data"
    }
   ],
   "source": [
    "# Function to clean the pin DataFrame\n",
    "def clean_df_pin(df_pin: DataFrame) -> DataFrame:\n",
    "    \"\"\"\n",
    "    Cleans the pin DataFrame according to specified transformations.\n",
    "    Parameters:df_pin (DataFrame): Spark DataFrame to be cleaned.\n",
    "    Returns: DataFrame: Cleaned Spark DataFrame.\n",
    "    \"\"\"\n",
    "    # Replace empty entries and entries with no relevant data in each column with None\n",
    "    markers_to_replace = [\"\", \"No description available Story format\", \"No description available\", \"N,o, ,T,a,g,s, ,A,v,a,i,l,a,b,l,e\", \"User Info Error\", \"No Title Data Available\", \"Image src error.\"]\n",
    "\n",
    "    # Iterate over all columns and replace the markers with None\n",
    "    for column_name in df_pin.columns:\n",
    "        df_pin = df_pin.withColumn(column_name, when(col(column_name).isin(markers_to_replace), None).otherwise(col(column_name)))\n",
    "\n",
    "    # Perform the necessary transformations on the follower_count to ensure every entry is a number\n",
    "    df_pin = df_pin.withColumn(\"follower_count\",\n",
    "    # Remove 'k' and multiply by 1,000\n",
    "    when(col(\"follower_count\").contains(\"k\"), (regexp_replace(col(\"follower_count\"), \"k\", \"\").cast(\"int\") * 1000))\n",
    "    # Remove 'M' and multiply by 1,000,000\n",
    "    .when(col(\"follower_count\").contains(\"M\"), (regexp_replace(col(\"follower_count\"), \"M\", \"\").cast(\"int\") * 1000000))\n",
    "    # If no 'k' or 'M', just cast to int\n",
    "    .otherwise(col(\"follower_count\").cast(\"int\"))\n",
    "    )\n",
    "    \n",
    "    # Ensure numeric data type for columns below\n",
    "    df_pin = df_pin.withColumn(\"downloaded\", col(\"downloaded\").cast(\"int\"))\n",
    "    df_pin = df_pin.withColumn(\"index\", col(\"index\").cast(\"int\"))\n",
    "\n",
    "    # Include only location path\n",
    "    df_pin = df_pin.withColumn(\"save_location\", regexp_replace(col(\"save_location\"), \"Local save in \", \"\"))\n",
    "\n",
    "    # Rename the index column to ind\n",
    "    df_pin = df_pin.withColumnRenamed(\"index\", \"ind\")\n",
    "\n",
    "    # Reorder the DataFrame columns\n",
    "    column_order = [\n",
    "        \"ind\",\n",
    "        \"unique_id\",\n",
    "        \"title\",\n",
    "        \"description\",\n",
    "        \"follower_count\",\n",
    "        \"poster_name\",\n",
    "        \"tag_list\",\n",
    "        \"is_image_or_video\",\n",
    "        \"image_src\",\n",
    "        \"save_location\",\n",
    "        \"category\"\n",
    "    ]\n",
    "\n",
    "    df_pin = df_pin.select(column_order)\n",
    "\n",
    "    return df_pin"
   ]
  },
  {
   "cell_type": "code",
   "execution_count": null,
   "metadata": {
    "application/vnd.databricks.v1+cell": {
     "cellMetadata": {
      "byteLimit": 2048000,
      "rowLimit": 10000
     },
     "inputWidgets": {},
     "nuid": "2ad75ffb-0985-4b4b-93ed-2044280c8667",
     "showTitle": false,
     "title": ""
    }
   },
   "outputs": [
    {
     "data": {
      "text/html": [
       "<style scoped>\n",
       "  .ansiout {\n",
       "    display: block;\n",
       "    unicode-bidi: embed;\n",
       "    white-space: pre-wrap;\n",
       "    word-wrap: break-word;\n",
       "    word-break: break-all;\n",
       "    font-family: \"Menlo\", \"Monaco\", \"Consolas\", \"Ubuntu Mono\", \"Source Code Pro\", monospace;\n",
       "    font-size: 13px;\n",
       "    color: #555;\n",
       "    margin-left: 4px;\n",
       "    line-height: 19px;\n",
       "  }\n",
       "</style>\n",
       "<div class=\"ansiout\"></div>"
      ]
     },
     "metadata": {
      "application/vnd.databricks.v1+output": {
       "addedWidgets": {},
       "arguments": {},
       "data": "<div class=\"ansiout\"></div>",
       "datasetInfos": [],
       "metadata": {},
       "removedWidgets": [],
       "type": "html"
      }
     },
     "output_type": "display_data"
    }
   ],
   "source": [
    "# Function to clean the geo DataFrame\n",
    "def clean_df_geo(df_geo: DataFrame) -> DataFrame:\n",
    "    # Create new column with values from latitude and longitude in array\n",
    "    df_geo = df_geo.withColumn(\"coordinates\", array(col(\"latitude\"), col(\"longitude\")))\n",
    "\n",
    "    df_geo = df_geo.drop(\"latitude\",\"longitude\")\n",
    "\n",
    "    df_geo = df_geo.withColumn(\"timestamp\",to_timestamp(col(\"timestamp\")))\n",
    "\n",
    "    df_geo = df_geo.withColumn(\"ind\", col(\"ind\").cast(\"int\"))\n",
    "\n",
    "    column_order = [\"ind\", \"country\", \"coordinates\", \"timestamp\"]\n",
    "    df_geo = df_geo.select(column_order)\n",
    "\n",
    "    return df_geo"
   ]
  },
  {
   "cell_type": "code",
   "execution_count": null,
   "metadata": {
    "application/vnd.databricks.v1+cell": {
     "cellMetadata": {
      "byteLimit": 2048000,
      "rowLimit": 10000
     },
     "inputWidgets": {},
     "nuid": "b4846a7f-c4fc-40ec-b661-e08dea231b77",
     "showTitle": false,
     "title": ""
    }
   },
   "outputs": [
    {
     "data": {
      "text/html": [
       "<style scoped>\n",
       "  .ansiout {\n",
       "    display: block;\n",
       "    unicode-bidi: embed;\n",
       "    white-space: pre-wrap;\n",
       "    word-wrap: break-word;\n",
       "    word-break: break-all;\n",
       "    font-family: \"Menlo\", \"Monaco\", \"Consolas\", \"Ubuntu Mono\", \"Source Code Pro\", monospace;\n",
       "    font-size: 13px;\n",
       "    color: #555;\n",
       "    margin-left: 4px;\n",
       "    line-height: 19px;\n",
       "  }\n",
       "</style>\n",
       "<div class=\"ansiout\"></div>"
      ]
     },
     "metadata": {
      "application/vnd.databricks.v1+output": {
       "addedWidgets": {},
       "arguments": {},
       "data": "<div class=\"ansiout\"></div>",
       "datasetInfos": [],
       "metadata": {},
       "removedWidgets": [],
       "type": "html"
      }
     },
     "output_type": "display_data"
    }
   ],
   "source": [
    "# Function to clean df_user DataFrame\n",
    "def clean_df_user(df_user: DataFrame) -> DataFrame:\n",
    "\n",
    "    df_user = df_user.withColumn(\"user_name\", concat(col(\"first_name\"), lit(\" \"), col(\"last_name\")))\n",
    "    df_user = df_user.drop(\"first_name\", \"last_name\")\n",
    "\n",
    "    df_user = df_user.withColumn(\"date_joined\", to_timestamp(col(\"date_joined\")))\n",
    "\n",
    "    df_user = df_user.withColumn(\"ind\", col(\"ind\").cast(\"int\"))\n",
    "    df_user = df_user.withColumn(\"age\", col(\"age\").cast(\"int\"))\n",
    "\n",
    "    column_order = [\"ind\", \"user_name\", \"age\", \"date_joined\"]\n",
    "    df_user = df_user.select(column_order)\n",
    "    \n",
    "    return df_user"
   ]
  },
  {
   "cell_type": "code",
   "execution_count": null,
   "metadata": {
    "application/vnd.databricks.v1+cell": {
     "cellMetadata": {
      "byteLimit": 2048000,
      "rowLimit": 10000
     },
     "inputWidgets": {},
     "nuid": "818e78c8-69de-438e-aa88-a80ad59281bb",
     "showTitle": false,
     "title": ""
    }
   },
   "outputs": [],
   "source": []
  }
 ],
 "metadata": {
  "application/vnd.databricks.v1+notebook": {
   "dashboards": [],
   "language": "python",
   "notebookMetadata": {
    "pythonIndentUnit": 4
   },
   "notebookName": "data_cleaning_tools",
   "widgets": {}
  },
  "language_info": {
   "name": "python"
  }
 },
 "nbformat": 4,
 "nbformat_minor": 0
}
